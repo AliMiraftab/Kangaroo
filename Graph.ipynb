{
 "cells": [
  {
   "cell_type": "code",
   "execution_count": 1,
   "metadata": {
    "collapsed": true
   },
   "outputs": [],
   "source": [
    "import tensorflow as tf"
   ]
  },
  {
   "cell_type": "markdown",
   "metadata": {},
   "source": [
    "In TensorFlow the computations are a represented in the form of graphs. Here, graphs are the descriptions of the computations which will be executed when the graphs are launched in a session. Before this launch they are just a “representation” of how the data will flow and what computations will be performed upon this data. Designing a graph is equivalent to designing a solution to a mathematical or a real world problem. Later, we can feed some input data to these graphs and get the desired output data. Nodes in the graphs are called ops (short for operations). These ops again are just representations of the real computations which would occur when the graphs are launched in a session and some data is provided. Here, data is represented by tensors. Tensors are the symbolic handle to the inputs and outputs of the ops. The real concrete values are stored in the form numpy arrays. Tensor does not hold the real values but instead provides a means of computing those values in a TensorFlow Session.\n",
    "\n",
    "## There are three core Graph data structures, which are essential in designing TensorFlow Graphs:\n",
    "class tf.Graph\n",
    "class tf.Operation\n",
    "class tf.Tensor\n",
    "\n",
    "\n",
    "The Graph is used to represent a complex TensorFlow computation or a model design solution for a problem. This class contains a set of Tensor objects, which represent the units of data that flow between operations and a set of Operation objects, which represent units of computation. These objects are used to design a Graph object. A Graph is a fundamental requirement of executing a TensorFlow computation. Hence, a default Graph is always registered, and accessible by calling tf.get_default_graph(). To add an operation to the default graph, we can simply call one of the functions that defines a new Operation and this operation will be added as a unit of this default Graph. Hence, for a particular process all the operations and tensors defined will be added to the default graph unless we create a graph explicitly and add units to it."
   ]
  },
  {
   "cell_type": "code",
   "execution_count": 2,
   "metadata": {
    "collapsed": false
   },
   "outputs": [
    {
     "name": "stdout",
     "output_type": "stream",
     "text": [
      "30.0\n",
      "30.0\n",
      "Default Graph Object:  <tensorflow.python.framework.ops.Graph object at 0x7f1a2d2b7160>\n",
      "Node 'a' added to the Graph Obect:  <tensorflow.python.framework.ops.Graph object at 0x7f1a2d2b7160>\n",
      "Tensor Object 'a' added to the Default Graph object\n"
     ]
    }
   ],
   "source": [
    "# Build a graph. Here, the default graph\n",
    "a = tf.constant(5.0)\n",
    "b = tf.constant(6.0)\n",
    "c = tf.mul(a, b)\n",
    "\n",
    "# Launch the graph in a session.\n",
    "sess = tf.Session()\n",
    "\n",
    "# Evaluate the tensor `c`.\n",
    "print(sess.run(c))\n",
    "sess.close()\n",
    "\n",
    "# Using context manager.\n",
    "\n",
    "with tf.Session() as sess:\n",
    "    print(sess.run(c))\n",
    "    \n",
    "    \n",
    "print(\"Default Graph Object: \", tf.get_default_graph())\n",
    "print(\"Node \\'a\\' added to the Graph Obect: \", a.graph)\n",
    "\n",
    "if tf.get_default_graph() == a.graph:\n",
    "    print('Tensor Object \\'a\\' added to the Default Graph object')\n",
    "\n",
    "\n"
   ]
  },
  {
   "cell_type": "markdown",
   "metadata": {},
   "source": [
    "Also, we can create multiple graphs in the same process. For convenience, a global default graph is provided, and all ops will be added to this default graph. But we can create graphs explicitly using tf.Graph.as_default() which Returns a context manager that makes this Graph the default graph for the lifetime of the context. Using this method with the with keyword we can specify that ops created within the scope of a block should be added to this Graph."
   ]
  },
  {
   "cell_type": "code",
   "execution_count": 3,
   "metadata": {
    "collapsed": false
   },
   "outputs": [
    {
     "name": "stdout",
     "output_type": "stream",
     "text": [
      "<tensorflow.python.framework.ops.Graph object at 0x7f1a2d2b7160>\n",
      "10.0\n",
      "<tensorflow.python.framework.ops.Graph object at 0x7f1a2d2e4cc0>\n",
      "20.0\n",
      "<tensorflow.python.framework.ops.Graph object at 0x7f1a2d321780>\n",
      "30.0\n"
     ]
    }
   ],
   "source": [
    "print(tf.get_default_graph())\n",
    "\n",
    "a = tf.constant(1.0)\n",
    "b = tf.constant(10.0)\n",
    "c = tf.mul(a, b)\n",
    "\n",
    "with tf.Session() as sess:\n",
    "    print(sess.run(c))\n",
    "\n",
    "\n",
    "\n",
    "g1 = tf.Graph()\n",
    "with g1.as_default():\n",
    "    print(tf.get_default_graph())\n",
    "    p = tf.constant(5.0)\n",
    "    q = tf.constant(4.0)\n",
    "    r = tf.mul(p, q)\n",
    "    \n",
    "with tf.Session(graph = g1) as sess:  \n",
    "    real_r_output =  sess.run(r)\n",
    "    print(real_r_output)\n",
    "    \n",
    "\n",
    "g2 = tf.Graph()\n",
    "with g2.as_default():\n",
    "    print(tf.get_default_graph())\n",
    "    x = tf.constant(5.0)\n",
    "    y = tf.constant(6.0)\n",
    "    z = tf.mul(x, y)  \n",
    "    \n",
    "        \n",
    "with tf.Session(graph = g2) as sess:  \n",
    "        real_z_output =  sess.run(z)\n",
    "        print(real_z_output)\n",
    "\n"
   ]
  },
  {
   "cell_type": "markdown",
   "metadata": {},
   "source": [
    "## Reseting the Default Graph:\n",
    "\n",
    "tf.reset_default_graph() function can be used to clear all the nodes and ops added to the default graph.\n",
    "\n",
    "The default graph is a property of the current thread. This function applies only to the current thread. \n",
    "\n",
    "We can not use any previously created tf.Operation or tf.Tensor objects after calling this function as they will no longer exist for the current thread.\n",
    "\n",
    "Example:"
   ]
  },
  {
   "cell_type": "code",
   "execution_count": 4,
   "metadata": {
    "collapsed": false
   },
   "outputs": [
    {
     "name": "stdout",
     "output_type": "stream",
     "text": [
      "The Session graph is empty.  Add operations to the graph before calling run().\n"
     ]
    }
   ],
   "source": [
    "a = tf.constant(1.0)\n",
    "b = tf.constant(10.0)\n",
    "c = tf.mul(a, b)\n",
    "\n",
    "tf.reset_default_graph()\n",
    "\n",
    "with tf.Session() as sess:\n",
    "    try:\n",
    "        print(sess.run(c)) # Error\n",
    "    except RuntimeError as e:\n",
    "        print (e)"
   ]
  },
  {
   "cell_type": "markdown",
   "metadata": {},
   "source": [
    "## Saving and Using Graph Definition:\n",
    "\n",
    "TensorFlow provides a serialization method to save the graph definiton of a graph and further use of this definition in another Graph. This tool can be used to link multiple graphs."
   ]
  },
  {
   "cell_type": "code",
   "execution_count": 5,
   "metadata": {
    "collapsed": false
   },
   "outputs": [
    {
     "name": "stdout",
     "output_type": "stream",
     "text": [
      "[20.0]\n"
     ]
    }
   ],
   "source": [
    "\n",
    "g1 = tf.Graph()\n",
    "with g1.as_default():\n",
    "\n",
    "    p = tf.placeholder(tf.float32, name=\"value1\")\n",
    "    q = tf.placeholder(tf.float32, name=\"value2\")\n",
    "    r = tf.mul(p, q)\n",
    "    product = tf.identity(r, name=\"product\")\n",
    "\n",
    "g1_def = g1.as_graph_def()\n",
    "\n",
    "\n",
    "g2 = tf.Graph()\n",
    "\n",
    "with g2.as_default():\n",
    "    p = tf.constant(4.0)\n",
    "    q = tf.constant(5.0)\n",
    "    product = tf.import_graph_def(g1_def,input_map={\"value1:0\":p, \"value2:0\":q},\n",
    "                                  return_elements=[\"product:0\"])\n",
    "    \n",
    "with tf.Session(graph = g2) as sess:          \n",
    "        print(sess.run(product))\n",
    "\n"
   ]
  },
  {
   "cell_type": "markdown",
   "metadata": {
    "collapsed": true
   },
   "source": [
    "## Control Dependencies:\n",
    "\n",
    "TensorFlow provides addidng control dependency between two or more ops. If we want one operation to be dependent on another operation we can easily add the dependency to the operations. \n",
    "\n",
    "tf.Graph.control_dependencies(control_inputs) can be used to return a context manager that specifies control dependencies.\n",
    "\n",
    "Use with the with keyword to specify that all operations constructed within the context should have control dependencies on control_inputs.\n",
    "\n",
    "For Example:"
   ]
  },
  {
   "cell_type": "code",
   "execution_count": 6,
   "metadata": {
    "collapsed": false
   },
   "outputs": [
    {
     "name": "stdout",
     "output_type": "stream",
     "text": [
      "20.0\n"
     ]
    }
   ],
   "source": [
    "tf.reset_default_graph()\n",
    "a = tf.constant(2.0)\n",
    "b = tf.constant(10.0)\n",
    "\n",
    "def execute_op_first(a,b):\n",
    "        op_first = tf.add(a,b)\n",
    "        return op_first\n",
    "\n",
    "\n",
    "op_first = execute_op_first(a,b)\n",
    "with tf.get_default_graph().control_dependencies([op_first]):\n",
    "        \n",
    "        op_second = tf.mul(a, b)\n",
    "        \n",
    "\n",
    "        with tf.Session(graph = tf.get_default_graph()) as sess:          \n",
    "              print(sess.run(op_second))"
   ]
  },
  {
   "cell_type": "markdown",
   "metadata": {
    "collapsed": true
   },
   "source": [
    "## Name Scopes:\n",
    "\n",
    "In TensorFlow graph maintains a stack of name scopes.\n",
    "\n",
    "Name Scopes are most important in data visualization. TensorBoard uses name scopes for this purpose. The better your name scopes, the better your visualization.\n",
    "\n",
    "A with name_scope(...): statement can be used to push a new name onto the stack for the lifetime of the context.\n",
    "\n",
    "The name argument will be interpreted as follows:\n",
    "\n",
    "A string (not ending with '/') will create a new name scope, in which name is appended to the prefix of all operations created in the context. If name has been used before, it will be made unique by calling self.unique_name(name).\n",
    "\n",
    "A scope previously captured from a with g.name_scope(...) as scope: statement will be treated as an \"absolute\" name scope, which makes it possible to re-enter existing scopes.\n",
    "\n",
    "A value of None or the empty string will reset the current name scope to the top-level (empty) name scope.\n",
    "\n",
    "For example:\n"
   ]
  },
  {
   "cell_type": "code",
   "execution_count": 7,
   "metadata": {
    "collapsed": false
   },
   "outputs": [
    {
     "name": "stdout",
     "output_type": "stream",
     "text": [
      "a:  a\n",
      "a:  a_1\n",
      "b:  layer/b\n",
      "c:  layer/inner/c\n",
      "c:  layer/inner_1/c\n",
      "d:  layer/d\n",
      "e:  e\n"
     ]
    }
   ],
   "source": [
    "with tf.Graph().as_default() as g:\n",
    "            a = tf.constant(5.0, name=\"a\")\n",
    "            print('a: ', a.op.name)\n",
    "            a = tf.constant(6.0, name=\"a\")\n",
    "            print('a: ', a.op.name)\n",
    "\n",
    "\n",
    "                  # Creates a scope called \"nested\"\n",
    "            with g.name_scope(\"layer\") as scope:\n",
    "                    b = tf.constant(10.0, name=\"b\")\n",
    "                    print ('b: ', b.op.name)\n",
    "\n",
    "                    # Creates a nested scope called \"inner\".\n",
    "                    with g.name_scope(\"inner\"):\n",
    "                        c = tf.constant(20.0, name=\"c\")\n",
    "                        print('c: ', c.op.name)\n",
    "\n",
    "                    # Create a nested scope called \"inner_1\".\n",
    "                    with g.name_scope(\"inner\"):\n",
    "                        c = tf.constant(30.0, name=\"c\")\n",
    "                        print('c: ', c.op.name)\n",
    " \n",
    "                      # Treats `scope` as an absolute name scope, and\n",
    "                      # switches to the \"nested/\" scope.\n",
    "                    with g.name_scope(scope):\n",
    "                        d = tf.constant(40.0, name=\"d\")\n",
    "                        print('d: ', d.op.name)\n",
    "\n",
    "                        with g.name_scope(\"\"):\n",
    "                            e = tf.constant(50.0, name=\"e\")\n",
    "                            print('e: ',e.op.name)"
   ]
  },
  {
   "cell_type": "markdown",
   "metadata": {
    "collapsed": true
   },
   "source": [
    "## Using Graph Collections:\n",
    "\n",
    "Tensorflow is a system for specifying and then executing computational data flow graphs. The graph collections are used as part of keeping track of the constructed graphs and how they must be executed.\n",
    "\n",
    "We can add specific type of values to a given key using tf.Graph.add_to_collection(name, value) function.\n",
    "\n",
    "For example: all the Variables of a graph 'g1' are stored under the name 'VARIABLES' in the code below.\n",
    "\n",
    "\n",
    "These names or keys anything. But in general these are standard names. The GraphKeys class contains many standard names for collections.\n",
    "\n",
    "Standard names to use for graph collections.\n",
    "\n",
    "The standard library uses various well-known names to collect and retrieve values associated with a graph. For example, the tf.Optimizer subclasses default to optimizing the variables collected under tf.GraphKeys.TRAINABLE_VARIABLES if none is specified, but it is also possible to pass an explicit list of variables.\n",
    "\n",
    "The following standard keys are defined:\n",
    "\n",
    "VARIABLES: the Variable objects that comprise a model, and must be saved and restored together.\n",
    "\n",
    "TRAINABLE_VARIABLES: the subset of Variable objects that will be trained by an optimizer.\n",
    "\n",
    "SUMMARIES: the summary Tensor objects that have been created in the graph.\n",
    "\n",
    "QUEUE_RUNNERS: the QueueRunner objects that are used to produce input for a computation.\n",
    "\n",
    "MOVING_AVERAGE_VARIABLES: the subset of Variable objects that will also keep moving averages.\n",
    "\n",
    "REGULARIZATION_LOSSES: regularization losses collected during graph construction.\n",
    "\n",
    "WEIGHTS: weights inside neural network layers.\n",
    "\n",
    "BIASES: biases inside neural network layers.\n",
    "\n",
    "ACTIVATIONS: activations of neural network layers.\n",
    "\n",
    "\n",
    "\n",
    "These collection of values can later be accessed using tf.Graph.get_collection(key) function.\n",
    "\n"
   ]
  },
  {
   "cell_type": "code",
   "execution_count": 8,
   "metadata": {
    "collapsed": false
   },
   "outputs": [
    {
     "name": "stdout",
     "output_type": "stream",
     "text": [
      "[<tensorflow.python.ops.variables.Variable object at 0x7f1a2928ee10>, <tensorflow.python.ops.variables.Variable object at 0x7f1a2928ef28>]\n",
      "[<tf.Tensor 'Mul:0' shape=() dtype=float32>]\n",
      "---------------------------------------\n",
      "[<tensorflow.python.ops.variables.Variable object at 0x7f1a2928efd0>, <tensorflow.python.ops.variables.Variable object at 0x7f1a2928ee48>, <tensorflow.python.ops.variables.Variable object at 0x7f1a2928ee80>]\n",
      "[<tf.Tensor 'Mul:0' shape=() dtype=float32>]\n"
     ]
    }
   ],
   "source": [
    "g1 = tf.Graph()\n",
    "with g1.as_default():\n",
    "    p = tf.Variable(1.0, name=\"value1\")\n",
    "    q = tf.Variable(2.0, name=\"value2\")\n",
    "    r = tf.mul(p, q)\n",
    "    product = tf.identity(r, name=\"product\")\n",
    "    \n",
    "    g1.add_to_collection('VARIABLES', p)\n",
    "    g1.add_to_collection('VARIABLES', q)\n",
    "    g1.add_to_collection('TRAINABLE_VARIABLES', r)\n",
    "    \n",
    "    \n",
    "g2 = tf.Graph() \n",
    "with g2.as_default():\n",
    "    p = tf.Variable(1.0, name=\"value1\")\n",
    "    q = tf.Variable(2.0, name=\"value2\")\n",
    "    s = tf.Variable(3.0, name=\"value3\")\n",
    "    r = tf.mul(p, q)\n",
    "    product = tf.identity(r, name=\"product\")\n",
    "    \n",
    "    g2.add_to_collection('VARIABLES', p)\n",
    "    g2.add_to_collection('VARIABLES', q)\n",
    "    g2.add_to_collection('VARIABLES', s)\n",
    "    g2.add_to_collection('TRAINABLE_VARIABLES', r)    \n",
    "    \n",
    "    \n",
    "print(g1.get_collection('VARIABLES'))\n",
    "print(g1.get_collection('TRAINABLE_VARIABLES'))\n",
    "# print(g1.get_collection_ref('VARIABLES'))\n",
    "\n",
    "print('---------------------------------------')\n",
    "\n",
    "print(g2.get_collection('VARIABLES'))\n",
    "print(g2.get_collection('TRAINABLE_VARIABLES'))\n",
    "    "
   ]
  },
  {
   "cell_type": "markdown",
   "metadata": {
    "collapsed": true
   },
   "source": [
    "## Validating an object as an elment of a particular Graph:\n",
    "\n",
    "TensorFlow provides the function tf.Graph.as_graph_element(obj, allow_tensor=True, allow_operation=True),\n",
    "which can be used to validate that obj represents an element of a particular graph, and gives an informative error message if it is not.\n",
    "\n",
    "This function returns the Tensor or Operation in the Graph corresponding to 'obj'.\n",
    "\n",
    "This function raises the following errors:\n",
    "\n",
    "TypeError: If obj is not a type we support attempting to convert to types.\n",
    "\n",
    "ValueError: If obj is of an appropriate type but invalid. For example, an invalid string.\n",
    "\n",
    "KeyError: If obj is not an object in the graph.\n",
    "\n"
   ]
  },
  {
   "cell_type": "code",
   "execution_count": 9,
   "metadata": {
    "collapsed": false
   },
   "outputs": [
    {
     "name": "stdout",
     "output_type": "stream",
     "text": [
      "Tensor(\"value1:0\", shape=(), dtype=float32_ref)\n",
      "name 'a_1' is not defined\n",
      "Tensor Tensor(\"a_1:0\", shape=(), dtype=float32) is not an element of this graph.\n",
      "\"The name 'keyError' refers to an Operation not in the graph.\"\n"
     ]
    }
   ],
   "source": [
    "g1 = tf.Graph()\n",
    "with g1.as_default():\n",
    "    p = tf.Variable(1.0, name=\"value1\")\n",
    "    q = tf.Variable(2.0, name=\"value2\")\n",
    "    r = tf.mul(p, q)\n",
    "    product = tf.identity(r, name=\"product\")\n",
    "\n",
    "k = tf.Variable(3.0,name=\"keyError\")\n",
    "    \n",
    "new_p = g1.as_graph_element(p)\n",
    "print(new_p)    \n",
    "    \n",
    "try:    \n",
    "    new_error_1 = g1.as_graph_element(a_1)\n",
    "except NameError as e:\n",
    "    print(e)\n",
    "    \n",
    "try:    \n",
    "    new_error_2 = g1.as_graph_element(a)\n",
    "except ValueError as e:\n",
    "    print(e)\n",
    "\n",
    "try:    \n",
    "    new_error_2 = g1.as_graph_element(\"keyError\")\n",
    "except KeyError as e:\n",
    "    print(e)\n",
    "    \n",
    "    "
   ]
  },
  {
   "cell_type": "markdown",
   "metadata": {
    "collapsed": true
   },
   "source": [
    "## Finalizing a Graph\n",
    "\n",
    "We can make a Graph read-only by finalizing it.\n",
    "\n",
    "tf.Graph.finalize() is used for this purpose.\n",
    "\n",
    "After making a graph read-only, no new operations can be added to it. This is used to ensure that no operations are added to a graph when it is shared between multiple threads, for example when using a QueueRunner.\n",
    "\n"
   ]
  },
  {
   "cell_type": "code",
   "execution_count": 13,
   "metadata": {
    "collapsed": false
   },
   "outputs": [
    {
     "name": "stdout",
     "output_type": "stream",
     "text": [
      "Graph is finalized and cannot be modified.\n"
     ]
    }
   ],
   "source": [
    "g1 = tf.Graph()\n",
    "with g1.as_default():\n",
    "    p = tf.Variable(1.0, name=\"value1\")\n",
    "    q = tf.Variable(2.0, name=\"value2\")\n",
    "    r = tf.mul(p, q)\n",
    "    product = tf.identity(r, name=\"product\")\n",
    "    g1.finalize()\n",
    "    \n",
    "    try:\n",
    "        s = tf.Variable(2.0, name=\"value3\")\n",
    "    except RuntimeError as e:\n",
    "        print(e)\n",
    "    "
   ]
  },
  {
   "cell_type": "markdown",
   "metadata": {},
   "source": [
    "## Feeding and Fetching\n",
    "\n",
    "As we know graph is just the representation of the computations. The real values can be feeded into graph and desired output can be fetch from graphs.\n",
    "\n",
    "Following are few functions related to these operations:\n",
    "\n",
    "\n",
    "1) tf.Graph.is_feedable(tensor):\n",
    "\n",
    "Used to check if a Tensor is feedable or not.\n",
    "Returns True if and only if tensor is feedable.\n",
    "\n",
    "2) tf.Graph.is_fetchable(tensor_or_op):\n",
    "\n",
    "Used to check if a Tensor or an Operation is fetchable or not.\n",
    "Returns True if and only if tensor_or_op is fetchable.\n",
    "\n",
    "3) tf.Graph.prevent_feeding(tensor):\n",
    "\n",
    "Used to mark the given tensor as unfeedable in this graph.\n",
    "\n",
    "4) tf.Graph.prevent_fetching(op):\n",
    "\n",
    "Used to mark the given op as unfetchable in this graph.\n",
    "\n"
   ]
  },
  {
   "cell_type": "markdown",
   "metadata": {},
   "source": [
    "## \n",
    "tf.Graph.get_operations()\n",
    "\n",
    "Return the list of operations in the graph.\n",
    "\n",
    "You can modify the operations in place, but modifications to the list such as inserts/delete have no effect on the list of operations known to the graph.\n",
    "\n",
    "This method may be called concurrently from multiple threads.\n",
    "\n",
    "Returns:\n",
    "\n",
    "A list of Operations."
   ]
  }
 ],
 "metadata": {
  "kernelspec": {
   "display_name": "Python 3",
   "language": "python",
   "name": "python3"
  },
  "language_info": {
   "codemirror_mode": {
    "name": "ipython",
    "version": 3
   },
   "file_extension": ".py",
   "mimetype": "text/x-python",
   "name": "python",
   "nbconvert_exporter": "python",
   "pygments_lexer": "ipython3",
   "version": "3.5.2"
  }
 },
 "nbformat": 4,
 "nbformat_minor": 1
}
