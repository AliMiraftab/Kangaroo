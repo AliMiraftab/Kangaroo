{
 "cells": [
  {
   "cell_type": "markdown",
   "metadata": {},
   "source": [
    "# Example to Train, Save and Reuse Tensorflow Model:"
   ]
  },
  {
   "cell_type": "code",
   "execution_count": 3,
   "metadata": {
    "collapsed": true
   },
   "outputs": [],
   "source": [
    "import tensorflow as tf\n",
    "import sklearn.datasets\n",
    "import numpy as np\n",
    "import pickle\n",
    "import matplotlib.pyplot as plt\n",
    "\n",
    "%matplotlib inline"
   ]
  },
  {
   "cell_type": "code",
   "execution_count": 4,
   "metadata": {
    "collapsed": false
   },
   "outputs": [],
   "source": [
    "n_nodes_h1 = 100\n",
    "n_nodes_h2 = 100\n",
    "n_classes = 2\n",
    "n_features = 2\n",
    "\n",
    "data_size = 1600\n",
    "batch_size = 100\n",
    "total_batches = int(data_size/batch_size)\n",
    "\n",
    "hm_epochs = 10\n",
    "\n",
    "tf_log = 'tf1.log'\n",
    "\n",
    "X, y_labels = sklearn.datasets.make_moons(data_size, noise= 0.20)\n",
    "X = X.astype('float32')\n",
    "y_ = y_labels.astype('float32')\n",
    "y_ = (np.arange(n_classes) == y_[:, None]).astype(np.float32)"
   ]
  },
  {
   "cell_type": "markdown",
   "metadata": {},
   "source": [
    "## Our Data\n",
    "\n",
    "<img src=\"moon1.png\" style=\"width:60%;height:60%\">"
   ]
  },
  {
   "cell_type": "code",
   "execution_count": 5,
   "metadata": {
    "collapsed": false
   },
   "outputs": [],
   "source": [
    "g = tf.Graph()\n",
    "with g.as_default():\n",
    "    x = tf.placeholder('float32')\n",
    "    y = tf.placeholder('float32')\n",
    "    \n",
    "    layer1 = {'hm_nodes':n_nodes_h1,\n",
    "              'weights':tf.Variable(tf.random_normal([n_features, n_nodes_h1])),\n",
    "              'bias':tf.Variable(tf.random_normal([n_nodes_h1]))}\n",
    "    layer2 = {'hm_nodes':n_nodes_h2,\n",
    "              'weights':tf.Variable(tf.random_normal([n_nodes_h1, n_nodes_h2])),\n",
    "              'bias':tf.Variable(tf.random_normal([n_nodes_h2]))}\n",
    "    output_layer = {'hm_nodes':None,\n",
    "                    'weights':tf.Variable(tf.random_normal([n_nodes_h2, n_classes])),\n",
    "                    'bias':tf.Variable(tf.random_normal([n_classes]))}"
   ]
  },
  {
   "cell_type": "code",
   "execution_count": 6,
   "metadata": {
    "collapsed": true
   },
   "outputs": [],
   "source": [
    "def our_model(data_x):\n",
    "    with g.as_default():\n",
    "        l1 = tf.add(tf.matmul(data_x, layer1['weights']), layer1['bias'])\n",
    "        l1 = tf.nn.relu(l1)\n",
    "        \n",
    "        l2 = tf.add(tf.matmul(l1, layer2['weights']), layer2['bias'])\n",
    "        l2 = tf.nn.relu(l2)\n",
    "        \n",
    "        output = tf.add(tf.matmul(l2, output_layer['weights']), output_layer['bias'])\n",
    "        return output\n",
    "        "
   ]
  },
  {
   "cell_type": "code",
   "execution_count": 7,
   "metadata": {
    "collapsed": false
   },
   "outputs": [],
   "source": [
    "with g.as_default():\n",
    "    our_saver = tf.train.Saver()"
   ]
  },
  {
   "cell_type": "code",
   "execution_count": 8,
   "metadata": {
    "collapsed": false
   },
   "outputs": [],
   "source": [
    "'''It will start from 1 or where you left it last and go ~hm_epochs~ more times'''\n",
    "def train_model(x):    \n",
    "    with g.as_default():       \n",
    "        \n",
    "        prediction = our_model(x)\n",
    "        \n",
    "        cost = tf.reduce_mean(tf.nn.softmax_cross_entropy_with_logits(prediction, y))\n",
    "        optimizer = tf.train.AdamOptimizer(learning_rate=0.001).minimize(cost)\n",
    "        \n",
    "        \n",
    "    with tf.Session(graph=g) as sess:\n",
    "        sess.run(tf.initialize_all_variables())\n",
    "        hm_epochs = 2\n",
    "        try:\n",
    "            epoch = int(open(tf_log, 'r').read().split('\\n')[-2]) + 1            \n",
    "            print('Starting Epoch: ', epoch)\n",
    "        except Exception as e:\n",
    "            epoch = 1\n",
    "            \n",
    "        \n",
    "        hm_epochs += epoch\n",
    "        while epoch <= hm_epochs:\n",
    "            \n",
    "            if epoch != 1:\n",
    "                print('Found session..')\n",
    "                print('Loading saved session...')\n",
    "                our_saver.restore(sess, 'model1.ckpt')\n",
    "            \n",
    "            epoch_loss = 1\n",
    "            batches_run = 0\n",
    "            \n",
    "            while batches_run < total_batches:\n",
    "                batch_x = X[batch_size * batches_run: batch_size * (batches_run+1), :]                \n",
    "                batch_y = y_[batch_size * batches_run: batch_size * (batches_run+1)]\n",
    "                \n",
    "                feed_dict = {x:batch_x,\n",
    "                             y:batch_y}\n",
    "                \n",
    "                _, c = sess.run([optimizer, cost], feed_dict)\n",
    "                epoch_loss += c\n",
    "                batches_run += 1\n",
    "#               print('Batch run:',batches_run,'/',total_batches,'| Epoch:',epoch,'| Batch Loss:',c)\n",
    "            \n",
    "            \n",
    "            our_saver.save(sess, 'model1.ckpt')\n",
    "            print('Epoch', epoch, 'completed out of', hm_epochs, 'loss:', epoch_loss)\n",
    "            print('Saving session....')\n",
    "            print('---------------------------------------------------------------')\n",
    "            \n",
    "            with open(tf_log, 'a') as f:\n",
    "                f.write(str(epoch)+'\\n')\n",
    "            epoch += 1\n",
    "            "
   ]
  },
  {
   "cell_type": "code",
   "execution_count": 9,
   "metadata": {
    "collapsed": false
   },
   "outputs": [
    {
     "name": "stdout",
     "output_type": "stream",
     "text": [
      "Starting Epoch:  192\n",
      "Found session..\n",
      "Loading saved session...\n",
      "Epoch 192 completed out of 194 loss: 3.24465046078\n",
      "Saving session....\n",
      "---------------------------------------------------------------\n",
      "Found session..\n",
      "Loading saved session...\n",
      "Epoch 193 completed out of 194 loss: 2.93509960547\n",
      "Saving session....\n",
      "---------------------------------------------------------------\n",
      "Found session..\n",
      "Loading saved session...\n",
      "Epoch 194 completed out of 194 loss: 2.77513140347\n",
      "Saving session....\n",
      "---------------------------------------------------------------\n"
     ]
    }
   ],
   "source": [
    "with g.as_default():\n",
    "    train_model(x)"
   ]
  },
  {
   "cell_type": "markdown",
   "metadata": {
    "collapsed": false
   },
   "source": [
    "# Result of Trained Model\n",
    "\n",
    "<img src=\"moon2.png\" style=\"width:80%;height:60%\">\n"
   ]
  },
  {
   "cell_type": "code",
   "execution_count": 10,
   "metadata": {
    "collapsed": false
   },
   "outputs": [
    {
     "name": "stdout",
     "output_type": "stream",
     "text": [
      "Starting Epoch:  195\n",
      "Found session..\n",
      "Loading saved session...\n",
      "Epoch 195 completed out of 197 loss: 3.2467046082\n",
      "Saving session....\n",
      "---------------------------------------------------------------\n",
      "Found session..\n",
      "Loading saved session...\n",
      "Epoch 196 completed out of 197 loss: 2.82921672054\n",
      "Saving session....\n",
      "---------------------------------------------------------------\n",
      "Found session..\n",
      "Loading saved session...\n",
      "Epoch 197 completed out of 197 loss: 2.72800714709\n",
      "Saving session....\n",
      "---------------------------------------------------------------\n"
     ]
    }
   ],
   "source": [
    "with g.as_default():\n",
    "    train_model(x)"
   ]
  },
  {
   "cell_type": "code",
   "execution_count": 11,
   "metadata": {
    "collapsed": false
   },
   "outputs": [
    {
     "name": "stdout",
     "output_type": "stream",
     "text": [
      "Starting Epoch:  198\n",
      "Found session..\n",
      "Loading saved session...\n",
      "Epoch 198 completed out of 200 loss: 2.731184843\n",
      "Saving session....\n",
      "---------------------------------------------------------------\n",
      "Found session..\n",
      "Loading saved session...\n",
      "Epoch 199 completed out of 200 loss: 2.61800396256\n",
      "Saving session....\n",
      "---------------------------------------------------------------\n",
      "Found session..\n",
      "Loading saved session...\n",
      "Epoch 200 completed out of 200 loss: 2.68504626211\n",
      "Saving session....\n",
      "---------------------------------------------------------------\n"
     ]
    }
   ],
   "source": [
    "with g.as_default():\n",
    "    train_model(x)"
   ]
  }
 ],
 "metadata": {
  "kernelspec": {
   "display_name": "Python 3",
   "language": "python",
   "name": "python3"
  },
  "language_info": {
   "codemirror_mode": {
    "name": "ipython",
    "version": 3
   },
   "file_extension": ".py",
   "mimetype": "text/x-python",
   "name": "python",
   "nbconvert_exporter": "python",
   "pygments_lexer": "ipython3",
   "version": "3.5.2"
  }
 },
 "nbformat": 4,
 "nbformat_minor": 1
}
